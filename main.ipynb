{
  "nbformat": 4,
  "nbformat_minor": 0,
  "metadata": {
    "colab": {
      "provenance": []
    },
    "kernelspec": {
      "name": "python3",
      "display_name": "Python 3"
    },
    "language_info": {
      "name": "python"
    }
  },
  "cells": [
    {
      "cell_type": "code",
      "execution_count": null,
      "metadata": {
        "colab": {
          "base_uri": "https://localhost:8080/"
        },
        "id": "_CVbW4iDAUo1",
        "outputId": "5d20890b-adf4-4fe5-a72b-9b38878fc1d2"
      },
      "outputs": [
        {
          "output_type": "stream",
          "name": "stdout",
          "text": [
            "Estimated value of Pi using Monte Carlo method: 3.1412256\n"
          ]
        }
      ],
      "source": [
        "import random\n",
        "\n",
        "num_iterations = 10000000\n",
        "count_inside = 0\n",
        "\n",
        "for i in range(num_iterations):\n",
        "    x, y = random.uniform(0, 1), random.uniform(0, 1)\n",
        "    if (x ** 2 + y ** 2) <= 1:\n",
        "        count_inside += 1\n",
        "\n",
        "pi_estimate = 4 * count_inside / num_iterations\n",
        "\n",
        "print(\"Estimated value of Pi using Monte Carlo method: {}\".format(pi_estimate))\n"
      ]
    },
    {
      "cell_type": "code",
      "source": [
        "import random\n",
        "from multiprocessing import Pool\n",
        "\n",
        "num_iterations = 10000000\n",
        "num_processes = 4\n",
        "\n",
        "def estimate_pi(num_iterations_per_process):\n",
        "    count_inside = 0\n",
        "    for i in range(num_iterations_per_process):\n",
        "        x, y = random.uniform(0, 1), random.uniform(0, 1)\n",
        "        if (x ** 2 + y ** 2) <= 1:\n",
        "            count_inside += 1\n",
        "    return count_inside\n",
        "\n",
        "if __name__ == '__main__':\n",
        "    with Pool(num_processes) as pool:\n",
        "        results = pool.map(estimate_pi, [num_iterations // num_processes] * num_processes)\n",
        "\n",
        "    count_inside = sum(results)\n",
        "    pi_estimate = 4 * count_inside / num_iterations\n",
        "\n",
        "    print(\"Estimated value of Pi using Monte Carlo method: {}\".format(pi_estimate))\n"
      ],
      "metadata": {
        "colab": {
          "base_uri": "https://localhost:8080/"
        },
        "id": "M60QtWApAyth",
        "outputId": "f8dc57a0-fa09-4b51-d9f8-802a447defdc"
      },
      "execution_count": null,
      "outputs": [
        {
          "output_type": "stream",
          "name": "stdout",
          "text": [
            "Estimated value of Pi using Monte Carlo method: 3.1417212\n"
          ]
        }
      ]
    },
    {
      "cell_type": "code",
      "source": [
        "import random\n",
        "import matplotlib.pyplot as plt\n",
        "import math\n",
        "\n",
        "def estimate_pi(num_iterations):\n",
        "    count_inside = 0\n",
        "    for i in range(num_iterations):\n",
        "        x, y = random.uniform(0, 1), random.uniform(0, 1)\n",
        "        if (x ** 2 + y ** 2) <= 1:\n",
        "            count_inside += 1\n",
        "    return 4 * count_inside / num_iterations\n",
        "\n",
        "num_iterations_list = [10**i for i in range(2, 8)]\n",
        "pi_estimates = [estimate_pi(n) for n in num_iterations_list]\n",
        "pi_errors = [abs(pi_estimate - math.pi) for pi_estimate in pi_estimates]\n",
        "\n",
        "plt.plot(num_iterations_list, pi_errors)\n",
        "plt.xscale('log')\n",
        "plt.xlabel('Number of iterations')\n",
        "plt.ylabel('Error')\n",
        "plt.title('Estimating Pi using Monte Carlo method')\n",
        "plt.show()\n"
      ],
      "metadata": {
        "colab": {
          "base_uri": "https://localhost:8080/",
          "height": 299
        },
        "id": "pEqyZI9FA5Vy",
        "outputId": "709fcb33-8f67-45aa-d159-db1a29d4bc2f"
      },
      "execution_count": null,
      "outputs": [
        {
          "output_type": "display_data",
          "data": {
            "text/plain": [
              "<Figure size 432x288 with 1 Axes>"
            ],
            "image/png": "[encoded data removed]"
          },
          "metadata": {
            "needs_background": "light"
          }
        }
      ]
    }
  ]
}